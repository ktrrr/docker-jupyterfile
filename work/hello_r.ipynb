{
 "cells": [
  {
   "cell_type": "code",
   "execution_count": 1,
   "id": "3aae7287",
   "metadata": {},
   "outputs": [],
   "source": [
    "a<-1"
   ]
  },
  {
   "cell_type": "code",
   "execution_count": 2,
   "id": "7d3c516e",
   "metadata": {},
   "outputs": [],
   "source": [
    "b<-2"
   ]
  },
  {
   "cell_type": "code",
   "execution_count": 3,
   "id": "49e63cd9",
   "metadata": {},
   "outputs": [],
   "source": [
    "c<-a+b"
   ]
  },
  {
   "cell_type": "code",
   "execution_count": 4,
   "id": "d6957044",
   "metadata": {},
   "outputs": [
    {
     "data": {
      "text/html": [
       "3"
      ],
      "text/latex": [
       "3"
      ],
      "text/markdown": [
       "3"
      ],
      "text/plain": [
       "[1] 3"
      ]
     },
     "metadata": {},
     "output_type": "display_data"
    }
   ],
   "source": [
    "c"
   ]
  },
  {
   "cell_type": "code",
   "execution_count": null,
   "id": "4d015113",
   "metadata": {},
   "outputs": [],
   "source": []
  }
 ],
 "metadata": {
  "kernelspec": {
   "display_name": "R",
   "language": "R",
   "name": "ir"
  },
  "language_info": {
   "codemirror_mode": "r",
   "file_extension": ".r",
   "mimetype": "text/x-r-source",
   "name": "R",
   "pygments_lexer": "r",
   "version": "4.1.1"
  }
 },
 "nbformat": 4,
 "nbformat_minor": 5
}
